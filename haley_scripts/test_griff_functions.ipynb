{
 "cells": [
  {
   "cell_type": "code",
   "execution_count": 1,
   "metadata": {},
   "outputs": [],
   "source": [
    "import pandas as pd\n",
    "import os\n",
    "import yaml"
   ]
  },
  {
   "cell_type": "markdown",
   "metadata": {},
   "source": [
    "Need to set this up to overwrite whats in /projects/pangen/analysis/hmac/applications/Griffin/snakemakes/griffin_nucleosome_profiling/config\n",
    "\n",
    "Overright:\n",
    "- sites.yaml\n",
    "- results.yaml \n",
    "\n",
    "Then run snakemake and have it output in your favourite directory "
   ]
  },
  {
   "cell_type": "code",
   "execution_count": 2,
   "metadata": {},
   "outputs": [],
   "source": [
    "def make_gene_input_tsvs(gene_list, output_dir, outfile):\n",
    "    os.makedirs(output_dir, exist_ok=True)\n",
    "    os.makedirs(\"logs\", exist_ok=True)\n",
    "    \n",
    "    gtf = pd.read_csv('/projects/pangen/analysis/hmac/reference/hg38_ref/genome.ucsc.regions.txt', sep = '\\t')\n",
    "    df = gtf[gtf['name2'].isin(gene_list)]\n",
    "    df = df[df['chrom'].isin(chroms)]\n",
    "    \n",
    "    df = df[['chrom', 'txStart', 'name2', 'strand']]\n",
    "    df.rename(columns={'chrom': 'Chrom', 'txStart': 'Start', 'name2': 'Gene', 'strand': 'Strand'}, inplace=True)\n",
    "    df['End'] = df['Start'] + 1\n",
    "    df['position'] = df['Start']\n",
    "    df['uniprotId'] = 'unknown'\n",
    "\n",
    "    # Reorder the DataFrame\n",
    "    column_order = [\"Chrom\", \"Start\", \"End\", \"uniprotId\", \"Gene\", \"position\", 'Strand']\n",
    "    df = df[column_order]\n",
    "    df = df.drop_duplicates()\n",
    "\n",
    "    # Count occurrences of each gene\n",
    "    gene_counts = df[\"Gene\"].value_counts()\n",
    "\n",
    "    # Dictionary to track occurrences\n",
    "    gene_counter = {}\n",
    "\n",
    "    # Function to rename genes\n",
    "    def rename_gene(gene):\n",
    "        if gene_counts[gene] > 1:  # Only rename if there are duplicates\n",
    "            if gene in gene_counter:\n",
    "                gene_counter[gene] += 1\n",
    "            else:\n",
    "                gene_counter[gene] = 1\n",
    "            return f\"{gene}_{gene_counter[gene]}\"  # Append _1, _2, etc.\n",
    "        else:\n",
    "            return gene  # Keep unique genes unchanged\n",
    "\n",
    "    # Apply function to rename duplicates\n",
    "    df[\"Gene\"] = df[\"Gene\"].apply(rename_gene)\n",
    "\n",
    "    # Iterate over each row and save as a separate TSV file\n",
    "    for index, row in df.iterrows():\n",
    "        # Convert row to a single-row DataFrame\n",
    "        row_df = pd.DataFrame([row])\n",
    "        # Define the filename using the Gene name\n",
    "        filename = os.path.join(output_dir, f\"{row['Gene']}.tsv\")\n",
    "        # Save as TSV (tab-separated)\n",
    "        row_df.to_csv(filename, sep='\\t', index=False)\n",
    "\n",
    "    # Save them all \n",
    "    df.to_csv(f\"{output_dir}/{outfile}\", sep=\"\\t\", index=False)\n",
    "    return df"
   ]
  },
  {
   "cell_type": "code",
   "execution_count": null,
   "metadata": {},
   "outputs": [],
   "source": [
    "name = 'housekeeping'\n",
    "gene_list = ['ACTB', 'GAPDH', 'RPLP0']\n",
    "tsvdir = 'site_files'\n",
    "outfile = 'test.tsv'\n",
    "\n",
    "chroms = [f\"chr{i}\" for i in range(1, 23)] + [\"chrX\", \"chrY\"]\n"
   ]
  },
  {
   "cell_type": "code",
   "execution_count": null,
   "metadata": {},
   "outputs": [],
   "source": [
    "# Make tsvs for griff\n",
    "tsvdir = 'site_files'\n",
    "outfile = 'test.tsv'\n",
    "df = make_gene_input_tsvs(gene_list, tsvdir, outfile)"
   ]
  },
  {
   "cell_type": "code",
   "execution_count": 11,
   "metadata": {},
   "outputs": [],
   "source": [
    "from pathlib import Path\n",
    "import os\n",
    "\n",
    "\n",
    "output_file = Path(\"/projects/pangen/analysis/hmac/applications/Griffin/snakemakes/griffin_nucleosome_profiling/config/sites.yaml\")\n",
    "tsvdir = Path(\".\") / \"site_files\"\n",
    "\n",
    "with output_file.open(\"w\") as file:\n",
    "    file.write(\"site_lists:\\n\")\n",
    "\n",
    "    def write_paths(indir):\n",
    "        for site in os.listdir(indir):\n",
    "            name = site.split('.')[0]\n",
    "            full_path = (indir / f\"{name}.tsv\").resolve()\n",
    "            file.write(f\"    {name}: {full_path}\\n\")\n",
    "\n",
    "    write_paths(tsvdir)\n"
   ]
  },
  {
   "cell_type": "code",
   "execution_count": null,
   "metadata": {},
   "outputs": [
    {
     "ename": "FileNotFoundError",
     "evalue": "[Errno 2] No such file or directory: 'tsvdir'",
     "output_type": "error",
     "traceback": [
      "\u001b[0;31m---------------------------------------------------------------------------\u001b[0m",
      "\u001b[0;31mFileNotFoundError\u001b[0m                         Traceback (most recent call last)",
      "\u001b[0;32m/tmp/ipykernel_117825/1155730017.py\u001b[0m in \u001b[0;36m<module>\u001b[0;34m\u001b[0m\n\u001b[1;32m     13\u001b[0m             \u001b[0mfile\u001b[0m\u001b[0;34m.\u001b[0m\u001b[0mwrite\u001b[0m\u001b[0;34m(\u001b[0m\u001b[0;34mf\"    {name}: {indir / name}.tsv\\n\"\u001b[0m\u001b[0;34m)\u001b[0m\u001b[0;34m\u001b[0m\u001b[0;34m\u001b[0m\u001b[0m\n\u001b[1;32m     14\u001b[0m \u001b[0;34m\u001b[0m\u001b[0m\n\u001b[0;32m---> 15\u001b[0;31m     \u001b[0mwrite_paths\u001b[0m\u001b[0;34m(\u001b[0m\u001b[0mtsvdir\u001b[0m\u001b[0;34m)\u001b[0m\u001b[0;34m\u001b[0m\u001b[0;34m\u001b[0m\u001b[0m\n\u001b[0m",
      "\u001b[0;32m/tmp/ipykernel_117825/1155730017.py\u001b[0m in \u001b[0;36mwrite_paths\u001b[0;34m(indir)\u001b[0m\n\u001b[1;32m      9\u001b[0m \u001b[0;34m\u001b[0m\u001b[0m\n\u001b[1;32m     10\u001b[0m     \u001b[0;32mdef\u001b[0m \u001b[0mwrite_paths\u001b[0m\u001b[0;34m(\u001b[0m\u001b[0mindir\u001b[0m\u001b[0;34m)\u001b[0m\u001b[0;34m:\u001b[0m\u001b[0;34m\u001b[0m\u001b[0;34m\u001b[0m\u001b[0m\n\u001b[0;32m---> 11\u001b[0;31m         \u001b[0;32mfor\u001b[0m \u001b[0msite\u001b[0m \u001b[0;32min\u001b[0m \u001b[0mos\u001b[0m\u001b[0;34m.\u001b[0m\u001b[0mlistdir\u001b[0m\u001b[0;34m(\u001b[0m\u001b[0mindir\u001b[0m\u001b[0;34m)\u001b[0m\u001b[0;34m:\u001b[0m\u001b[0;34m\u001b[0m\u001b[0;34m\u001b[0m\u001b[0m\n\u001b[0m\u001b[1;32m     12\u001b[0m             \u001b[0mname\u001b[0m \u001b[0;34m=\u001b[0m \u001b[0msite\u001b[0m\u001b[0;34m.\u001b[0m\u001b[0msplit\u001b[0m\u001b[0;34m(\u001b[0m\u001b[0;34m'.'\u001b[0m\u001b[0;34m)\u001b[0m\u001b[0;34m[\u001b[0m\u001b[0;36m0\u001b[0m\u001b[0;34m]\u001b[0m\u001b[0;34m\u001b[0m\u001b[0;34m\u001b[0m\u001b[0m\n\u001b[1;32m     13\u001b[0m             \u001b[0mfile\u001b[0m\u001b[0;34m.\u001b[0m\u001b[0mwrite\u001b[0m\u001b[0;34m(\u001b[0m\u001b[0;34mf\"    {name}: {indir / name}.tsv\\n\"\u001b[0m\u001b[0;34m)\u001b[0m\u001b[0;34m\u001b[0m\u001b[0;34m\u001b[0m\u001b[0m\n",
      "\u001b[0;31mFileNotFoundError\u001b[0m: [Errno 2] No such file or directory: 'tsvdir'"
     ]
    }
   ],
   "source": [
    "# MAke sites.yaml\n",
    "output_file = \"/projects/pangen/analysis/hmac/applications/Griffin/snakemakes/griffin_nucleosome_profiling/config/sites.yaml\"\n",
    "\n",
    "tsvdir = \"site_files\"\n",
    "\n",
    "with open(output_file, \"w\") as file:\n",
    "    file.write(\"site_lists:\\n\")  \n",
    "    def write_paths(indir):\n",
    "        for site in os.listdir(indir):\n",
    "            name = site.split('.')[0]\n",
    "            file.write(f\"    {name}: {os.path.join(indir, name)}.tsv\\n\")\n",
    "    write_paths(tsvdir)\n",
    "\n"
   ]
  },
  {
   "cell_type": "code",
   "execution_count": 12,
   "metadata": {},
   "outputs": [],
   "source": [
    "import os\n",
    "import yaml\n",
    "from yaml.representer import SafeRepresenter\n",
    "\n",
    "# Trick PyYAML into writing a plain scalar string\n",
    "class PlainString(str):\n",
    "    pass\n",
    "\n",
    "def plain_string_representer(dumper, data):\n",
    "    return dumper.represent_scalar('tag:yaml.org,2002:str', data, style='')\n",
    "\n",
    "yaml.add_representer(PlainString, plain_string_representer)\n",
    "\n",
    "def write_griffin_config(output_dir, results_dir):\n",
    "    os.makedirs(output_dir, exist_ok=True)\n",
    "    os.makedirs(results_dir, exist_ok=True)\n",
    "\n",
    "    chroms_str = PlainString(\" \".join([f\"chr{i}\" for i in range(1, 23)] + [\"chrX\", \"chrY\"]))\n",
    "\n",
    "    config = {\n",
    "        'results_dir': results_dir,\n",
    "    }\n",
    "\n",
    "    with open(os.path.join(output_dir, 'results.yaml'), 'w') as f:\n",
    "        yaml.dump(config, f, default_flow_style=False)\n",
    "\n",
    "# Example usage\n",
    "write_griffin_config('/projects/pangen/analysis/hmac/applications/Griffin/snakemakes/griffin_nucleosome_profiling/config', '/projects/pangen/analysis/hmac/applications/Griffin/test/results')\n"
   ]
  },
  {
   "cell_type": "code",
   "execution_count": null,
   "metadata": {},
   "outputs": [],
   "source": [
    "from pathlib import Path\n",
    "import os\n",
    "import yaml\n",
    "\n",
    "# Trick PyYAML into writing a plain scalar string\n",
    "class PlainString(str):\n",
    "    pass\n",
    "\n",
    "def plain_string_representer(dumper, data):\n",
    "    return dumper.represent_scalar('tag:yaml.org,2002:str', data, style='')\n",
    "\n",
    "yaml.add_representer(PlainString, plain_string_representer)\n",
    "\n",
    "def write_griffin_config(output_dir):\n",
    "    output_dir = Path(output_dir).resolve()\n",
    "    results_dir = output_dir / \"results\"\n",
    "\n",
    "    os.makedirs(output_dir, exist_ok=True)\n",
    "    os.makedirs(results_dir, exist_ok=True)\n",
    "\n",
    "    config = {\n",
    "        'results_dir': str(results_dir),\n",
    "    }\n",
    "\n",
    "    with open(output_dir / 'results.yaml', 'w') as f:\n",
    "        yaml.dump(config, f, default_flow_style=False)\n"
   ]
  },
  {
   "cell_type": "code",
   "execution_count": null,
   "metadata": {},
   "outputs": [],
   "source": [
    "# Dont need i think\n",
    "\n",
    "import yaml\n",
    "from pathlib import Path\n",
    "\n",
    "# Order matters: later keys override earlier ones if duplicated\n",
    "config_files = [\n",
    "    \"/projects/pangen/analysis/hmac/applications/Griffin/snakemakes/griffin_GC_and_mappability_correction/results/samples.GC.yaml\",\n",
    "    \"config/sites.yaml\",\n",
    "    \"config/config.yaml\",\n",
    "    \"/projects/pangen/analysis/hmac/applications/Griffin/snakemakes/griffin_nucleosome_profiling/config/cluster_slurm.yaml\"\n",
    "]\n",
    "\n",
    "merged = {}\n",
    "for path in config_files:\n",
    "    with open(path, 'r') as f:\n",
    "        content = yaml.safe_load(f)\n",
    "        if content:\n",
    "            merged.update(content)\n",
    "\n",
    "# Output to a single combined config\n",
    "with open(\"config/combined.yaml\", \"w\") as out:\n",
    "    yaml.dump(merged, out, default_flow_style=False)\n"
   ]
  },
  {
   "cell_type": "markdown",
   "metadata": {},
   "source": [
    "\n",
    "# Run in your working directory - where all output will be made\n",
    "```\n",
    "snakemake -s /projects/pangen/analysis/hmac/Griffin/snakemakes/griffin_nucleosome_profiling/griffin_nucleosome_profiling.snakefile \\\n",
    "--jobs 40 \\\n",
    "  --configfile /projects/pangen/analysis/hmac/Griffin/snakemakes/griffin_GC_and_mappability_correction/results/samples.GC.yaml \\\n",
    "  --configfile sites.yaml \\\n",
    "  --configfile config.yaml \\\n",
    "  --configfile /projects/pangen/analysis/hmac/Griffin/snakemakes/griffin_nucleosome_profiling/config/cluster_slurm.yaml \\\n",
    "  --latency-wait 60 \\\n",
    "  --keep-going \\\n",
    "  --rerun-incomplete \\\n",
    "  --cluster-config /projects/pangen/analysis/hmac/Griffin/snakemakes/griffin_nucleosome_profiling/config/cluster_slurm.yaml \\\n",
    "  --cluster \"sbatch --mem={cluster.mem} -t {cluster.time} -c {cluster.ncpus} -n {cluster.ntasks} -o {cluster.output} -J {cluster.JobName}\"\n",
    "```"
   ]
  }
 ],
 "metadata": {
  "kernelspec": {
   "display_name": "griffin",
   "language": "python",
   "name": "python3"
  },
  "language_info": {
   "codemirror_mode": {
    "name": "ipython",
    "version": 3
   },
   "file_extension": ".py",
   "mimetype": "text/x-python",
   "name": "python",
   "nbconvert_exporter": "python",
   "pygments_lexer": "ipython3",
   "version": "3.7.12"
  }
 },
 "nbformat": 4,
 "nbformat_minor": 2
}
